{
 "metadata": {
  "language_info": {
   "codemirror_mode": {
    "name": "ipython",
    "version": 3
   },
   "file_extension": ".py",
   "mimetype": "text/x-python",
   "name": "python",
   "nbconvert_exporter": "python",
   "pygments_lexer": "ipython3",
   "version": 3
  },
  "orig_nbformat": 2
 },
 "nbformat": 4,
 "nbformat_minor": 2,
 "cells": [
  {
   "source": [
    "# 1.什么是目标检测\n",
    "目标检测（Object Detection）的任务是找出图像中所有感兴趣的目标（物体），确实它们的类别和位置。\n",
    "\n",
    "## 1.1 目标检测的应用场景\n",
    "* 人脸检测、行人检测、车辆检测、卫星图像中道路的检测、车载摄像机图像中的障碍物检测、医学影像病灶检测\n",
    "* 长/视频领域、医学场景、安防领域、自动驾驶"
   ],
   "cell_type": "markdown",
   "metadata": {}
  },
  {
   "source": [
    "# 2.目标检测算法介绍\n",
    "\n",
    "* 两步走的目标检测：先进行区域推荐，而后进行目标分类。R-CNN、SPP-Net、Fast R-CNN、Faster R-CNN 和 R-FCN\n",
    "* 端到端的目标检测：直接在网络中提取特征来预测物体分类和位置。OverFeat, YOLOv1, YOLOv2, YOLOv3, SSD, RetinaNet"
   ],
   "cell_type": "markdown",
   "metadata": {}
  }
 ]
}