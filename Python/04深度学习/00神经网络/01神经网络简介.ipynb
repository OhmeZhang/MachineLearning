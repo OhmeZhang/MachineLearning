{
 "metadata": {
  "language_info": {
   "codemirror_mode": {
    "name": "ipython",
    "version": 3
   },
   "file_extension": ".py",
   "mimetype": "text/x-python",
   "name": "python",
   "nbconvert_exporter": "python",
   "pygments_lexer": "ipython3",
   "version": "3.8.0"
  },
  "orig_nbformat": 2,
  "kernelspec": {
   "name": "python380jvsc74a57bd0bca880557d938597d032406508cdbb06f59923e14421c39f9f476ef0e9bb9cc8",
   "display_name": "Python 3.8.0 64-bit ('TF24': conda)"
  },
  "metadata": {
   "interpreter": {
    "hash": "bca880557d938597d032406508cdbb06f59923e14421c39f9f476ef0e9bb9cc8"
   }
  }
 },
 "nbformat": 4,
 "nbformat_minor": 2,
 "cells": [
  {
   "source": [
    "人工神经网络（Artificial Neural Network，简写为ANN）也称为神经网络（NN）。是一种模仿生物神经网络结构和功能的计算模型。经典的神经网络结构包含三个层次的神经网络。分别是输入层，输出层以及隐藏层。\n",
    "\n",
    "* 神经网络的特点：\n",
    "    * 每个连接都有个权值\n",
    "    * 同一层神经元之间没有连接\n",
    "    * 最后的输出结果对应的层也称之为全连接层\n",
    "* 组成：\n",
    "    * 输入层：神经网络的第一层，原始的样本数据\n",
    "    * 隐藏层：其余的中间层都被称为隐藏层（hidden layer）\n",
    "    * 输出层：神经网络的最后一层，最终的计算结果\n",
    "    * 权重（weight）：就是之前所说的参数，这里被称为一个神经节点的权重\n",
    "    * 激活函数（activation function）：激活函数是两层神经元之间的映射函数，是一种输出到输入的转换，一般是非线性的，而且是单调可微函数（因为优化方法是基于梯度的）。常见的激活函数有：sigmoid， tanh"
   ],
   "cell_type": "markdown",
   "metadata": {}
  },
  {
   "source": [
    "感知机（PLA：Perceptron Learning Algorithm）\n",
    "\n",
    "感知机就是模拟这样的大脑神经网络处理数据的过程。感知机是一种最基础的分类模型，前半部分类似于回归模型。感知机最基础是这样的函数，而逻辑回归用的sigmoid。这个感知机具有连接的权重和偏置\n",
    "\n",
    "$$ u=\\sum_{i=1}^{n} w_i x_i + b $$"
   ],
   "cell_type": "markdown",
   "metadata": {}
  },
  {
   "source": [
    "但是这种结构的线性的二分类器，但不能对非线性的数据进行有效的分类。\n",
    "* 感知机结构，能够很好的解决与、或等问题，但是并不能很好的解决异或等问题。\n",
    "* 与问题：每个样本的两个特征同时为1，结果为1\n",
    "* 或问题：每个样本的两个特征一个为1，结果为1\n",
    "* 如果解决异或：每个样本的两个特征相同为0，不同为1？"
   ],
   "cell_type": "markdown",
   "metadata": {}
  }
 ]
}