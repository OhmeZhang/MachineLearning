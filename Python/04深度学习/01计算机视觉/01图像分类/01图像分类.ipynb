{
 "metadata": {
  "language_info": {
   "codemirror_mode": {
    "name": "ipython",
    "version": 3
   },
   "file_extension": ".py",
   "mimetype": "text/x-python",
   "name": "python",
   "nbconvert_exporter": "python",
   "pygments_lexer": "ipython3",
   "version": 3
  },
  "orig_nbformat": 2
 },
 "nbformat": 4,
 "nbformat_minor": 2,
 "cells": [
  {
   "source": [
    "# 1.1图像分类\n",
    "\n",
    "任务目的：对输入的图像赋予一个标签，这个标签在指定类别集合中\n",
    "\n",
    "图像是0到255之间的三维整数数组，大小为$宽 \\times 高 \\times 3$ 。 3表示红色、绿色、蓝色三个颜色通道"
   ],
   "cell_type": "markdown",
   "metadata": {}
  },
  {
   "source": [
    "# 1.2挑战\n",
    "* Viewpoint variation： 单个物体从不同角度照出来的图像\n",
    "* Scale variation：展现出的图像大小会变化\n",
    "* Deformation：许多物体的边缘可以形成不同的形状形式\n",
    "* Occlusion：关注的某个物体会被遮挡，只有一小部分会被显示出来\n",
    "* Illumination conditions：光照对像素级的影响很大\n",
    "* Background clutter：感兴趣的物体与环境融合，很难进行区分\n",
    "* Intra-class variation：物体的类别非常广泛相近"
   ],
   "cell_type": "markdown",
   "metadata": {}
  },
  {
   "source": [
    "# 1.3 近邻分类器\n",
    "* 数据驱动方式-依赖于大量指定类别的训练数据\n",
    "\n",
    "## 优缺点\n",
    "* 优点是实现和理解起来非常简单。此外，分类器不需要时间进行训练，因为所需的只是存储并可能索引训练数据\n",
    "* 缺点是我们在测试时候的计算成本，因为对测试示例进行分类需要与每个单独的训练示例进行比较。这是向后的，因为在实践中，我们通常更关心测试见的效率，而不是训练时间的效率"
   ],
   "cell_type": "markdown",
   "metadata": {}
  },
  {
   "cell_type": "code",
   "execution_count": null,
   "metadata": {},
   "outputs": [],
   "source": []
  }
 ]
}